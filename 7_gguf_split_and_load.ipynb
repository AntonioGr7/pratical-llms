{
 "cells": [
  {
   "cell_type": "markdown",
   "metadata": {},
   "source": [
    "### Skip this step if you already have done it (Start directly from Splitting)"
   ]
  },
  {
   "cell_type": "markdown",
   "metadata": {},
   "source": [
    "##### Clone llama.cpp repo and download model"
   ]
  },
  {
   "cell_type": "code",
   "execution_count": null,
   "metadata": {},
   "outputs": [],
   "source": [
    "!git clone https://github.com/ggerganov/llama.cpp.git\n",
    "!cd llama.cpp && git pull && make clean && LLAMA_CUBLAS=1 make\n",
    "!pip install -r llama.cpp/requirements.txt"
   ]
  },
  {
   "cell_type": "code",
   "execution_count": null,
   "metadata": {},
   "outputs": [],
   "source": [
    "import os\n",
    "os.environ['HF_TOKEN'] = \"[YOUR HF TOKEN HERE]\""
   ]
  },
  {
   "cell_type": "code",
   "execution_count": 3,
   "metadata": {},
   "outputs": [
    {
     "data": {
      "text/plain": [
       "'TinyLlama-1.1B-Chat-v1.0'"
      ]
     },
     "execution_count": 3,
     "metadata": {},
     "output_type": "execute_result"
    }
   ],
   "source": [
    "model_id = \"TinyLlama/TinyLlama-1.1B-Chat-v1.0\"\n",
    "model_name = model_id.split('/')[-1]\n",
    "model_name"
   ]
  },
  {
   "cell_type": "code",
   "execution_count": null,
   "metadata": {},
   "outputs": [],
   "source": [
    "!git clone https://huggingface.co/{model_id}"
   ]
  },
  {
   "cell_type": "markdown",
   "metadata": {},
   "source": [
    "## Quantize in GGUF or download a GGUF from HF locally\n",
    "For quantization follow the guide in \"6_gguf_quantization.ipynb\". "
   ]
  },
  {
   "cell_type": "markdown",
   "metadata": {},
   "source": [
    "## Splitting\n",
    "\n",
    "Take the model quantized in the \"6_gguf_quantization.ipynb\" or pull one from HF."
   ]
  },
  {
   "cell_type": "code",
   "execution_count": 4,
   "metadata": {},
   "outputs": [
    {
     "data": {
      "text/plain": [
       "'TinyLlama-1.1B-Chat-v1.0'"
      ]
     },
     "execution_count": 4,
     "metadata": {},
     "output_type": "execute_result"
    }
   ],
   "source": [
    "model_id = \"TinyLlama/TinyLlama-1.1B-Chat-v1.0\"\n",
    "model_name = model_id.split('/')[-1]\n",
    "model_name"
   ]
  },
  {
   "cell_type": "code",
   "execution_count": 5,
   "metadata": {},
   "outputs": [
    {
     "data": {
      "text/plain": [
       "['tinyllama-1.1b-chat-v1.0.Q4_K_M.gguf',\n",
       " 'tinyllama-1.1b-chat-v1.0.Q5_K_M.gguf']"
      ]
     },
     "execution_count": 5,
     "metadata": {},
     "output_type": "execute_result"
    }
   ],
   "source": [
    "import os\n",
    "model_list = [file for file in os.listdir(model_name) if \"gguf\" in file]\n",
    "model_list"
   ]
  },
  {
   "cell_type": "code",
   "execution_count": 12,
   "metadata": {},
   "outputs": [],
   "source": [
    "model = os.getcwd() +\"/TinyLlama-1.1B-Chat-v1.0/tinyllama-1.1b-chat-v1.0.Q4_K_M.gguf\""
   ]
  },
  {
   "cell_type": "code",
   "execution_count": 8,
   "metadata": {},
   "outputs": [
    {
     "name": "stdout",
     "output_type": "stream",
     "text": [
      "n_split: 21\n",
      "split 00001: n_tensors = 10, total_size = 113M\n",
      "split 00002: n_tensors = 10, total_size = 27M\n",
      "split 00003: n_tensors = 10, total_size = 23M\n",
      "split 00004: n_tensors = 10, total_size = 32M\n",
      "split 00005: n_tensors = 10, total_size = 29M\n",
      "split 00006: n_tensors = 10, total_size = 29M\n",
      "split 00007: n_tensors = 10, total_size = 26M\n",
      "split 00008: n_tensors = 10, total_size = 24M\n",
      "split 00009: n_tensors = 10, total_size = 25M\n",
      "split 00010: n_tensors = 10, total_size = 28M\n",
      "split 00011: n_tensors = 10, total_size = 24M\n",
      "split 00012: n_tensors = 10, total_size = 23M\n",
      "split 00013: n_tensors = 10, total_size = 32M\n",
      "split 00014: n_tensors = 10, total_size = 29M\n",
      "split 00015: n_tensors = 10, total_size = 32M\n",
      "split 00016: n_tensors = 10, total_size = 23M\n",
      "split 00017: n_tensors = 10, total_size = 23M\n",
      "split 00018: n_tensors = 10, total_size = 28M\n",
      "split 00019: n_tensors = 10, total_size = 28M\n",
      "split 00020: n_tensors = 10, total_size = 27M\n",
      "split 00021: n_tensors = 1, total_size = 0M\n",
      "Writing file tinyllama-1.1b-chat-v1.0.Q5_0-00001-of-00021.gguf ... done\n",
      "Writing file tinyllama-1.1b-chat-v1.0.Q5_0-00002-of-00021.gguf ... done\n",
      "Writing file tinyllama-1.1b-chat-v1.0.Q5_0-00003-of-00021.gguf ... done\n",
      "Writing file tinyllama-1.1b-chat-v1.0.Q5_0-00004-of-00021.gguf ... done\n",
      "Writing file tinyllama-1.1b-chat-v1.0.Q5_0-00005-of-00021.gguf ... done\n",
      "Writing file tinyllama-1.1b-chat-v1.0.Q5_0-00006-of-00021.gguf ... done\n",
      "Writing file tinyllama-1.1b-chat-v1.0.Q5_0-00007-of-00021.gguf ... done\n",
      "Writing file tinyllama-1.1b-chat-v1.0.Q5_0-00008-of-00021.gguf ... done\n",
      "Writing file tinyllama-1.1b-chat-v1.0.Q5_0-00009-of-00021.gguf ... done\n",
      "Writing file tinyllama-1.1b-chat-v1.0.Q5_0-00010-of-00021.gguf ... done\n",
      "Writing file tinyllama-1.1b-chat-v1.0.Q5_0-00011-of-00021.gguf ... done\n",
      "Writing file tinyllama-1.1b-chat-v1.0.Q5_0-00012-of-00021.gguf ... done\n",
      "Writing file tinyllama-1.1b-chat-v1.0.Q5_0-00013-of-00021.gguf ... done\n",
      "Writing file tinyllama-1.1b-chat-v1.0.Q5_0-00014-of-00021.gguf ... done\n",
      "Writing file tinyllama-1.1b-chat-v1.0.Q5_0-00015-of-00021.gguf ... done\n",
      "Writing file tinyllama-1.1b-chat-v1.0.Q5_0-00016-of-00021.gguf ... done\n",
      "Writing file tinyllama-1.1b-chat-v1.0.Q5_0-00017-of-00021.gguf ... done\n",
      "Writing file tinyllama-1.1b-chat-v1.0.Q5_0-00018-of-00021.gguf ... done\n",
      "Writing file tinyllama-1.1b-chat-v1.0.Q5_0-00019-of-00021.gguf ... done\n",
      "Writing file tinyllama-1.1b-chat-v1.0.Q5_0-00020-of-00021.gguf ... done\n",
      "Writing file tinyllama-1.1b-chat-v1.0.Q5_0-00021-of-00021.gguf ... done\n",
      "gguf_split: 21 gguf split written with a total of 201 tensors.\n"
     ]
    }
   ],
   "source": [
    "!llama.cpp/gguf-split --split --split-max-tensors 10 {model} tinyllama-1.1b-chat-v1.0.Q5_0"
   ]
  },
  {
   "cell_type": "markdown",
   "metadata": {},
   "source": [
    "Everything seems ok.\n",
    "Let's open it"
   ]
  },
  {
   "cell_type": "code",
   "execution_count": 10,
   "metadata": {},
   "outputs": [],
   "source": [
    "prompt = \"Write a 50 words poem about Naples:\""
   ]
  },
  {
   "cell_type": "code",
   "execution_count": 11,
   "metadata": {},
   "outputs": [
    {
     "name": "stdout",
     "output_type": "stream",
     "text": [
      "Log start\n",
      "main: build = 2675 (17e98d4c)\n",
      "main: built with cc (Ubuntu 9.4.0-1ubuntu1~20.04.2) 9.4.0 for x86_64-linux-gnu\n",
      "main: seed  = 1713189557\n",
      "llama_model_loader: additional 20 GGUFs metadata loaded.\n",
      "llama_model_loader: loaded meta data with 26 key-value pairs and 201 tensors from /teamspace/studios/this_studio/pratical-llms/tinyllama-1.1b-chat-v1.0.Q5_0-00001-of-00021.gguf (version GGUF V3 (latest))\n",
      "llama_model_loader: Dumping metadata keys/values. Note: KV overrides do not apply in this output.\n",
      "llama_model_loader: - kv   0:                       general.architecture str              = llama\n",
      "llama_model_loader: - kv   1:                               general.name str              = .\n",
      "llama_model_loader: - kv   2:                           llama.vocab_size u32              = 32000\n",
      "llama_model_loader: - kv   3:                       llama.context_length u32              = 2048\n",
      "llama_model_loader: - kv   4:                     llama.embedding_length u32              = 2048\n",
      "llama_model_loader: - kv   5:                          llama.block_count u32              = 22\n",
      "llama_model_loader: - kv   6:                  llama.feed_forward_length u32              = 5632\n",
      "llama_model_loader: - kv   7:                 llama.rope.dimension_count u32              = 64\n",
      "llama_model_loader: - kv   8:                 llama.attention.head_count u32              = 32\n",
      "llama_model_loader: - kv   9:              llama.attention.head_count_kv u32              = 4\n",
      "llama_model_loader: - kv  10:     llama.attention.layer_norm_rms_epsilon f32              = 0.000010\n",
      "llama_model_loader: - kv  11:                       llama.rope.freq_base f32              = 10000.000000\n",
      "llama_model_loader: - kv  12:                          general.file_type u32              = 15\n",
      "llama_model_loader: - kv  13:                       tokenizer.ggml.model str              = llama\n",
      "llama_model_loader: - kv  14:                      tokenizer.ggml.tokens arr[str,32000]   = [\"<unk>\", \"<s>\", \"</s>\", \"<0x00>\", \"<...\n",
      "llama_model_loader: - kv  15:                      tokenizer.ggml.scores arr[f32,32000]   = [0.000000, 0.000000, 0.000000, 0.0000...\n",
      "llama_model_loader: - kv  16:                  tokenizer.ggml.token_type arr[i32,32000]   = [2, 3, 3, 6, 6, 6, 6, 6, 6, 6, 6, 6, ...\n",
      "llama_model_loader: - kv  17:                tokenizer.ggml.bos_token_id u32              = 1\n",
      "llama_model_loader: - kv  18:                tokenizer.ggml.eos_token_id u32              = 2\n",
      "llama_model_loader: - kv  19:            tokenizer.ggml.unknown_token_id u32              = 0\n",
      "llama_model_loader: - kv  20:            tokenizer.ggml.padding_token_id u32              = 2\n",
      "llama_model_loader: - kv  21:                    tokenizer.chat_template str              = {% for message in messages %}\\n{% if m...\n",
      "llama_model_loader: - kv  22:               general.quantization_version u32              = 2\n",
      "llama_model_loader: - kv  23:                                   split.no u16              = 0\n",
      "llama_model_loader: - kv  24:                                split.count u16              = 21\n",
      "llama_model_loader: - kv  25:                        split.tensors.count i32              = 201\n",
      "llama_model_loader: - type  f32:   45 tensors\n",
      "llama_model_loader: - type q4_K:  135 tensors\n",
      "llama_model_loader: - type q6_K:   21 tensors\n",
      "llm_load_vocab: special tokens definition check successful ( 259/32000 ).\n",
      "llm_load_print_meta: format           = GGUF V3 (latest)\n",
      "llm_load_print_meta: arch             = llama\n",
      "llm_load_print_meta: vocab type       = SPM\n",
      "llm_load_print_meta: n_vocab          = 32000\n",
      "llm_load_print_meta: n_merges         = 0\n",
      "llm_load_print_meta: n_ctx_train      = 2048\n",
      "llm_load_print_meta: n_embd           = 2048\n",
      "llm_load_print_meta: n_head           = 32\n",
      "llm_load_print_meta: n_head_kv        = 4\n",
      "llm_load_print_meta: n_layer          = 22\n",
      "llm_load_print_meta: n_rot            = 64\n",
      "llm_load_print_meta: n_embd_head_k    = 64\n",
      "llm_load_print_meta: n_embd_head_v    = 64\n",
      "llm_load_print_meta: n_gqa            = 8\n",
      "llm_load_print_meta: n_embd_k_gqa     = 256\n",
      "llm_load_print_meta: n_embd_v_gqa     = 256\n",
      "llm_load_print_meta: f_norm_eps       = 0.0e+00\n",
      "llm_load_print_meta: f_norm_rms_eps   = 1.0e-05\n",
      "llm_load_print_meta: f_clamp_kqv      = 0.0e+00\n",
      "llm_load_print_meta: f_max_alibi_bias = 0.0e+00\n",
      "llm_load_print_meta: f_logit_scale    = 0.0e+00\n",
      "llm_load_print_meta: n_ff             = 5632\n",
      "llm_load_print_meta: n_expert         = 0\n",
      "llm_load_print_meta: n_expert_used    = 0\n",
      "llm_load_print_meta: causal attn      = 1\n",
      "llm_load_print_meta: pooling type     = 0\n",
      "llm_load_print_meta: rope type        = 0\n",
      "llm_load_print_meta: rope scaling     = linear\n",
      "llm_load_print_meta: freq_base_train  = 10000.0\n",
      "llm_load_print_meta: freq_scale_train = 1\n",
      "llm_load_print_meta: n_yarn_orig_ctx  = 2048\n",
      "llm_load_print_meta: rope_finetuned   = unknown\n",
      "llm_load_print_meta: ssm_d_conv       = 0\n",
      "llm_load_print_meta: ssm_d_inner      = 0\n",
      "llm_load_print_meta: ssm_d_state      = 0\n",
      "llm_load_print_meta: ssm_dt_rank      = 0\n",
      "llm_load_print_meta: model type       = 1B\n",
      "llm_load_print_meta: model ftype      = Q4_K - Medium\n",
      "llm_load_print_meta: model params     = 1.10 B\n",
      "llm_load_print_meta: model size       = 636.18 MiB (4.85 BPW) \n",
      "llm_load_print_meta: general.name     = .\n",
      "llm_load_print_meta: BOS token        = 1 '<s>'\n",
      "llm_load_print_meta: EOS token        = 2 '</s>'\n",
      "llm_load_print_meta: UNK token        = 0 '<unk>'\n",
      "llm_load_print_meta: PAD token        = 2 '</s>'\n",
      "llm_load_print_meta: LF token         = 13 '<0x0A>'\n"
     ]
    },
    {
     "name": "stdout",
     "output_type": "stream",
     "text": [
      "ggml_cuda_init: GGML_CUDA_FORCE_MMQ:   no\n",
      "ggml_cuda_init: CUDA_USE_TENSOR_CORES: yes\n",
      "ggml_cuda_init: found 1 CUDA devices:\n",
      "  Device 0: Tesla T4, compute capability 7.5, VMM: yes\n",
      "llm_load_tensors: ggml ctx size =    0.15 MiB\n",
      "llm_load_tensors: offloading 22 repeating layers to GPU\n",
      "llm_load_tensors: offloading non-repeating layers to GPU\n",
      "llm_load_tensors: offloaded 23/23 layers to GPU\n",
      "llm_load_tensors:        CPU buffer size =    35.16 MiB\n",
      "llm_load_tensors:      CUDA0 buffer size =   601.02 MiB\n",
      "....................................................................................\n",
      "llama_new_context_with_model: n_ctx      = 512\n",
      "llama_new_context_with_model: n_batch    = 512\n",
      "llama_new_context_with_model: n_ubatch   = 512\n",
      "llama_new_context_with_model: freq_base  = 10000.0\n",
      "llama_new_context_with_model: freq_scale = 1\n",
      "llama_kv_cache_init:      CUDA0 KV buffer size =    11.00 MiB\n",
      "llama_new_context_with_model: KV self size  =   11.00 MiB, K (f16):    5.50 MiB, V (f16):    5.50 MiB\n",
      "llama_new_context_with_model:  CUDA_Host  output buffer size =     0.12 MiB\n",
      "llama_new_context_with_model:      CUDA0 compute buffer size =    66.50 MiB\n",
      "llama_new_context_with_model:  CUDA_Host compute buffer size =     5.01 MiB\n",
      "llama_new_context_with_model: graph nodes  = 710\n",
      "llama_new_context_with_model: graph splits = 2\n",
      "\n",
      "system_info: n_threads = 4 / 8 | AVX = 1 | AVX_VNNI = 0 | AVX2 = 1 | AVX512 = 1 | AVX512_VBMI = 0 | AVX512_VNNI = 1 | FMA = 1 | NEON = 0 | ARM_FMA = 0 | F16C = 1 | FP16_VA = 0 | WASM_SIMD = 0 | BLAS = 1 | SSE3 = 1 | SSSE3 = 1 | VSX = 0 | MATMUL_INT8 = 0 | \n",
      "sampling: \n",
      "\trepeat_last_n = 64, repeat_penalty = 1.000, frequency_penalty = 0.000, presence_penalty = 0.000\n",
      "\ttop_k = 40, tfs_z = 1.000, top_p = 0.950, min_p = 0.050, typical_p = 1.000, temp = 0.800\n",
      "\tmirostat = 0, mirostat_lr = 0.100, mirostat_ent = 5.000\n",
      "sampling order: \n",
      "CFG -> Penalties -> top_k -> tfs_z -> typical_p -> top_p -> min_p -> temperature \n",
      "generate: n_ctx = 512, n_batch = 2048, n_predict = -1, n_keep = 1\n",
      "\n",
      "\n",
      " Write a 50 words poem about Naples:\n",
      "\n",
      "Naples is a city of ancient ruins,\n",
      "A land of temples, where the gods abide,\n",
      "Their halls, dark and silent, a place of fear,\n",
      "But the air is sweet, with a salty breeze,\n",
      "\n",
      "A city of the arts, where poets and painters thrive,\n",
      "With works so grand, I would never be,\n",
      "But the sound of laughter, the joy of life,\n",
      "Is a sweet melody, that I shall not tire,\n",
      "\n",
      "Naples is a land of sunsets, so pure,\n",
      "A city where time and space is unknown,\n",
      "The sea, a stranger, a friend, a muse,\n",
      "Naples, a city of dreams, a place of love. [end of text]\n",
      "\n",
      "llama_print_timings:        load time =    2530.14 ms\n",
      "llama_print_timings:      sample time =       7.50 ms /   166 runs   (    0.05 ms per token, 22136.28 tokens per second)\n",
      "llama_print_timings: prompt eval time =      18.36 ms /    12 tokens (    1.53 ms per token,   653.63 tokens per second)\n",
      "llama_print_timings:        eval time =     944.61 ms /   165 runs   (    5.72 ms per token,   174.68 tokens per second)\n",
      "llama_print_timings:       total time =    1033.30 ms /   177 tokens\n",
      "Log end\n"
     ]
    }
   ],
   "source": [
    "!llama.cpp/main --model /teamspace/studios/this_studio/pratical-llms/tinyllama-1.1b-chat-v1.0.Q5_0-00001-of-00021.gguf -ngl 23 -p \"{prompt}\""
   ]
  },
  {
   "cell_type": "markdown",
   "metadata": {},
   "source": [
    "##### Gonna love it. Happy GGUF sharing"
   ]
  }
 ],
 "metadata": {
  "kernelspec": {
   "display_name": "Python 3",
   "language": "python",
   "name": "python3"
  },
  "language_info": {
   "codemirror_mode": {
    "name": "ipython",
    "version": 3
   },
   "file_extension": ".py",
   "mimetype": "text/x-python",
   "name": "python",
   "nbconvert_exporter": "python",
   "pygments_lexer": "ipython3",
   "version": "3.10.10"
  }
 },
 "nbformat": 4,
 "nbformat_minor": 2
}
